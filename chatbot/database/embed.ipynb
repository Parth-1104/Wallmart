{
 "cells": [
  {
   "cell_type": "code",
   "execution_count": 1,
   "id": "4e98c2e7",
   "metadata": {},
   "outputs": [
    {
     "name": "stderr",
     "output_type": "stream",
     "text": [
      "e:\\Wallmart\\.venv\\Lib\\site-packages\\tqdm\\auto.py:21: TqdmWarning: IProgress not found. Please update jupyter and ipywidgets. See https://ipywidgets.readthedocs.io/en/stable/user_install.html\n",
      "  from .autonotebook import tqdm as notebook_tqdm\n"
     ]
    }
   ],
   "source": [
    "import chromadb\n",
    "import pandas as pd\n",
    "from sentence_transformers import SentenceTransformer\n"
   ]
  },
  {
   "cell_type": "code",
   "execution_count": 16,
   "id": "2d440c18",
   "metadata": {},
   "outputs": [],
   "source": [
    "items_df = pd.read_csv(\"items.csv\")\n",
    "sections_df = pd.read_csv(\"sections.csv\")\n",
    "\n",
    "\n",
    "merged_df = pd.merge(items_df, sections_df, left_on='section', right_on='id', how='left')\n",
    "\n"
   ]
  },
  {
   "cell_type": "code",
   "execution_count": 17,
   "id": "ec513bda",
   "metadata": {},
   "outputs": [
    {
     "data": {
      "text/html": [
       "<div>\n",
       "<style scoped>\n",
       "    .dataframe tbody tr th:only-of-type {\n",
       "        vertical-align: middle;\n",
       "    }\n",
       "\n",
       "    .dataframe tbody tr th {\n",
       "        vertical-align: top;\n",
       "    }\n",
       "\n",
       "    .dataframe thead th {\n",
       "        text-align: right;\n",
       "    }\n",
       "</style>\n",
       "<table border=\"1\" class=\"dataframe\">\n",
       "  <thead>\n",
       "    <tr style=\"text-align: right;\">\n",
       "      <th></th>\n",
       "      <th>id_x</th>\n",
       "      <th>name</th>\n",
       "      <th>category</th>\n",
       "      <th>section</th>\n",
       "      <th>aisle</th>\n",
       "      <th>shelf</th>\n",
       "      <th>x_x</th>\n",
       "      <th>y_x</th>\n",
       "      <th>deal</th>\n",
       "      <th>id_y</th>\n",
       "      <th>section_name</th>\n",
       "      <th>color</th>\n",
       "      <th>x_y</th>\n",
       "      <th>y_y</th>\n",
       "      <th>width</th>\n",
       "      <th>height</th>\n",
       "    </tr>\n",
       "  </thead>\n",
       "  <tbody>\n",
       "    <tr>\n",
       "      <th>0</th>\n",
       "      <td>1</td>\n",
       "      <td>Apples</td>\n",
       "      <td>Fruit</td>\n",
       "      <td>produce</td>\n",
       "      <td>1</td>\n",
       "      <td>A</td>\n",
       "      <td>2</td>\n",
       "      <td>2</td>\n",
       "      <td>20% Off</td>\n",
       "      <td>produce</td>\n",
       "      <td>Fresh Produce</td>\n",
       "      <td>#059669</td>\n",
       "      <td>1</td>\n",
       "      <td>1</td>\n",
       "      <td>4</td>\n",
       "      <td>3</td>\n",
       "    </tr>\n",
       "    <tr>\n",
       "      <th>1</th>\n",
       "      <td>2</td>\n",
       "      <td>Bananas</td>\n",
       "      <td>Fruit</td>\n",
       "      <td>produce</td>\n",
       "      <td>1</td>\n",
       "      <td>B</td>\n",
       "      <td>4</td>\n",
       "      <td>2</td>\n",
       "      <td>NaN</td>\n",
       "      <td>produce</td>\n",
       "      <td>Fresh Produce</td>\n",
       "      <td>#059669</td>\n",
       "      <td>1</td>\n",
       "      <td>1</td>\n",
       "      <td>4</td>\n",
       "      <td>3</td>\n",
       "    </tr>\n",
       "    <tr>\n",
       "      <th>2</th>\n",
       "      <td>3</td>\n",
       "      <td>Carrots</td>\n",
       "      <td>Vegetable</td>\n",
       "      <td>produce</td>\n",
       "      <td>2</td>\n",
       "      <td>A</td>\n",
       "      <td>2</td>\n",
       "      <td>3</td>\n",
       "      <td>NaN</td>\n",
       "      <td>produce</td>\n",
       "      <td>Fresh Produce</td>\n",
       "      <td>#059669</td>\n",
       "      <td>1</td>\n",
       "      <td>1</td>\n",
       "      <td>4</td>\n",
       "      <td>3</td>\n",
       "    </tr>\n",
       "    <tr>\n",
       "      <th>3</th>\n",
       "      <td>4</td>\n",
       "      <td>Spinach</td>\n",
       "      <td>Vegetable</td>\n",
       "      <td>produce</td>\n",
       "      <td>2</td>\n",
       "      <td>B</td>\n",
       "      <td>4</td>\n",
       "      <td>3</td>\n",
       "      <td>NaN</td>\n",
       "      <td>produce</td>\n",
       "      <td>Fresh Produce</td>\n",
       "      <td>#059669</td>\n",
       "      <td>1</td>\n",
       "      <td>1</td>\n",
       "      <td>4</td>\n",
       "      <td>3</td>\n",
       "    </tr>\n",
       "    <tr>\n",
       "      <th>4</th>\n",
       "      <td>5</td>\n",
       "      <td>Oranges</td>\n",
       "      <td>Fruit</td>\n",
       "      <td>produce</td>\n",
       "      <td>1</td>\n",
       "      <td>A</td>\n",
       "      <td>1</td>\n",
       "      <td>1</td>\n",
       "      <td>NaN</td>\n",
       "      <td>produce</td>\n",
       "      <td>Fresh Produce</td>\n",
       "      <td>#059669</td>\n",
       "      <td>1</td>\n",
       "      <td>1</td>\n",
       "      <td>4</td>\n",
       "      <td>3</td>\n",
       "    </tr>\n",
       "  </tbody>\n",
       "</table>\n",
       "</div>"
      ],
      "text/plain": [
       "   id_x     name   category  section  aisle shelf  x_x  y_x     deal     id_y  \\\n",
       "0     1   Apples      Fruit  produce      1     A    2    2  20% Off  produce   \n",
       "1     2  Bananas      Fruit  produce      1     B    4    2      NaN  produce   \n",
       "2     3  Carrots  Vegetable  produce      2     A    2    3      NaN  produce   \n",
       "3     4  Spinach  Vegetable  produce      2     B    4    3      NaN  produce   \n",
       "4     5  Oranges      Fruit  produce      1     A    1    1      NaN  produce   \n",
       "\n",
       "    section_name    color  x_y  y_y  width  height  \n",
       "0  Fresh Produce  #059669    1    1      4       3  \n",
       "1  Fresh Produce  #059669    1    1      4       3  \n",
       "2  Fresh Produce  #059669    1    1      4       3  \n",
       "3  Fresh Produce  #059669    1    1      4       3  \n",
       "4  Fresh Produce  #059669    1    1      4       3  "
      ]
     },
     "execution_count": 17,
     "metadata": {},
     "output_type": "execute_result"
    }
   ],
   "source": [
    "merged_df.head()\n"
   ]
  },
  {
   "cell_type": "code",
   "execution_count": 18,
   "id": "e6adba99",
   "metadata": {},
   "outputs": [],
   "source": [
    "merged_df['content'] = merged_df.apply(lambda row:\n",
    "    f\"{row['name']}: {row['category']} item. {row.get('deal', '')} Located in section {row['section']}, aisle {row['aisle']}, shelf {row['shelf']}.\",\n",
    "    axis=1\n",
    ")"
   ]
  },
  {
   "cell_type": "code",
   "execution_count": 20,
   "id": "8887d195",
   "metadata": {},
   "outputs": [
    {
     "name": "stderr",
     "output_type": "stream",
     "text": [
      "Failed to send telemetry event ClientStartEvent: capture() takes 1 positional argument but 3 were given\n",
      "Failed to send telemetry event ClientCreateCollectionEvent: capture() takes 1 positional argument but 3 were given\n"
     ]
    }
   ],
   "source": [
    "chroma_client = chromadb.Client()\n",
    "collection = chroma_client.get_or_create_collection(name=\"store_items\")\n"
   ]
  },
  {
   "cell_type": "code",
   "execution_count": 21,
   "id": "68818106",
   "metadata": {},
   "outputs": [],
   "source": [
    "embedder = SentenceTransformer(\"all-MiniLM-L6-v2\")"
   ]
  },
  {
   "cell_type": "code",
   "execution_count": 24,
   "id": "a5f8231f",
   "metadata": {},
   "outputs": [
    {
     "name": "stderr",
     "output_type": "stream",
     "text": [
      "Failed to send telemetry event CollectionAddEvent: capture() takes 1 positional argument but 3 were given\n"
     ]
    }
   ],
   "source": [
    "collection.add(\n",
    "    documents=merged_df[\"content\"].tolist(),\n",
    "    embeddings=embedder.encode(merged_df[\"content\"].tolist()),  # generate embeddings here\n",
    "    ids=[str(i) for i in merged_df.index],  # or use merged_df[\"id\"] if it's unique\n",
    "    metadatas=merged_df[[\"name\", \"category\", \"section\", \"aisle\", \"shelf\", \"x_x\", \"y_x\", \"deal\", \"id_y\", \"section_name\", \"color\", \"x_y\", \"y_y\", \"width\", \"height\"]].to_dict(orient=\"records\")\n",
    ")\n"
   ]
  },
  {
   "cell_type": "code",
   "execution_count": 27,
   "id": "29ae4f86",
   "metadata": {},
   "outputs": [],
   "source": [
    "def query_item_location(query: str):\n",
    "    embedding = embedder.encode(query).tolist()\n",
    "    result = collection.query(query_embeddings=[embedding], n_results=1)\n",
    "\n",
    "    metadata = result['metadatas'][0][0]\n",
    "    \n",
    "    return {\n",
    "        \"name\": metadata['name'],\n",
    "        \"category\": metadata['category'],\n",
    "        \"deal\": metadata['deal'],\n",
    "        \"section\": metadata['section'],\n",
    "        \"aisle\": metadata['aisle'],\n",
    "        \"shelf\": metadata['shelf'],\n",
    "        \"coordinates\": {\n",
    "            \"x\": metadata['x_y'],\n",
    "            \"y\": metadata['y_y'],\n",
    "            \"width\": metadata['width'],\n",
    "            \"height\": metadata['height']\n",
    "        }\n",
    "    }"
   ]
  },
  {
   "cell_type": "code",
   "execution_count": 28,
   "id": "dea52345",
   "metadata": {},
   "outputs": [
    {
     "name": "stdout",
     "output_type": "stream",
     "text": [
      "{'name': 'Strawberries', 'category': 'Fruit', 'deal': '15% Off', 'section': 'produce', 'aisle': 1, 'shelf': 'A', 'coordinates': {'x': 1, 'y': 1, 'width': 4, 'height': 3}}\n"
     ]
    }
   ],
   "source": [
    "result = query_item_location(\"Where can I find strawberries?\")\n",
    "print(result)"
   ]
  },
  {
   "cell_type": "code",
   "execution_count": null,
   "id": "d376fb27",
   "metadata": {},
   "outputs": [],
   "source": []
  }
 ],
 "metadata": {
  "kernelspec": {
   "display_name": ".venv",
   "language": "python",
   "name": "python3"
  },
  "language_info": {
   "codemirror_mode": {
    "name": "ipython",
    "version": 3
   },
   "file_extension": ".py",
   "mimetype": "text/x-python",
   "name": "python",
   "nbconvert_exporter": "python",
   "pygments_lexer": "ipython3",
   "version": "3.12.10"
  }
 },
 "nbformat": 4,
 "nbformat_minor": 5
}
