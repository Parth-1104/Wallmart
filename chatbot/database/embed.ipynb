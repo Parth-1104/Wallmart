{
 "cells": [
  {
   "cell_type": "code",
   "execution_count": 9,
   "id": "4e98c2e7",
   "metadata": {},
   "outputs": [],
   "source": [
    "import chromadb\n",
    "import pandas as pd\n",
    "from sentence_transformers import SentenceTransformer\n"
   ]
  },
  {
   "cell_type": "code",
   "execution_count": 11,
   "id": "2d440c18",
   "metadata": {},
   "outputs": [],
   "source": [
    "df = pd.read_csv(\"data.csv\")\n",
    "\n",
    "df[\"content\"] = df.apply(\n",
    "    lambda row: f\"{row['product_name']}: {row['description']} (Section: {row['section_name']})\",\n",
    "    axis=1\n",
    ")\n"
   ]
  },
  {
   "cell_type": "code",
   "execution_count": 12,
   "id": "ec513bda",
   "metadata": {},
   "outputs": [],
   "source": [
    "model = SentenceTransformer(\"all-MiniLM-L6-v2\")\n"
   ]
  },
  {
   "cell_type": "code",
   "execution_count": 13,
   "id": "e6adba99",
   "metadata": {},
   "outputs": [],
   "source": [
    "embeddings = model.encode(df[\"content\"].tolist()).tolist()\n"
   ]
  },
  {
   "cell_type": "code",
   "execution_count": 14,
   "id": "8887d195",
   "metadata": {},
   "outputs": [],
   "source": [
    "chroma_client = chromadb.Client()\n",
    "collection = chroma_client.get_or_create_collection(name=\"products\")\n"
   ]
  },
  {
   "cell_type": "code",
   "execution_count": 15,
   "id": "a5f8231f",
   "metadata": {},
   "outputs": [],
   "source": [
    "collection.add(\n",
    "    documents=df[\"content\"].tolist(),\n",
    "    embeddings=embeddings,\n",
    "    ids=[str(pid) for pid in df[\"product_id\"]],\n",
    "    metadatas=df[[\"product_name\", \"section_name\"]].to_dict(orient=\"records\")\n",
    ")\n"
   ]
  },
  {
   "cell_type": "code",
   "execution_count": 22,
   "id": "29ae4f86",
   "metadata": {},
   "outputs": [
    {
     "name": "stdout",
     "output_type": "stream",
     "text": [
      "Top Match:\n",
      "Face Wash: Gentle face cleanser (Section: Personal Care)\n",
      "Metadata: {'product_name': 'Face Wash', 'section_name': 'Personal Care'}\n"
     ]
    }
   ],
   "source": [
    "query = \"Where can I find Face Wash?\"\n",
    "query_embedding = model.encode([query]).tolist()\n",
    "\n",
    "results = collection.query(\n",
    "    query_embeddings=query_embedding,\n",
    "    n_results=1\n",
    ")\n",
    "\n",
    "print(\"Top Match:\")\n",
    "print(results['documents'][0][0])\n",
    "print(\"Metadata:\", results['metadatas'][0][0])\n"
   ]
  },
  {
   "cell_type": "code",
   "execution_count": 18,
   "id": "dea52345",
   "metadata": {},
   "outputs": [
    {
     "data": {
      "text/html": [
       "<div>\n",
       "<style scoped>\n",
       "    .dataframe tbody tr th:only-of-type {\n",
       "        vertical-align: middle;\n",
       "    }\n",
       "\n",
       "    .dataframe tbody tr th {\n",
       "        vertical-align: top;\n",
       "    }\n",
       "\n",
       "    .dataframe thead th {\n",
       "        text-align: right;\n",
       "    }\n",
       "</style>\n",
       "<table border=\"1\" class=\"dataframe\">\n",
       "  <thead>\n",
       "    <tr style=\"text-align: right;\">\n",
       "      <th></th>\n",
       "      <th>product_id</th>\n",
       "      <th>product_name</th>\n",
       "      <th>description</th>\n",
       "      <th>section_name</th>\n",
       "      <th>content</th>\n",
       "    </tr>\n",
       "  </thead>\n",
       "  <tbody>\n",
       "    <tr>\n",
       "      <th>0</th>\n",
       "      <td>1</td>\n",
       "      <td>Banana</td>\n",
       "      <td>Fresh yellow bananas</td>\n",
       "      <td>Fruits</td>\n",
       "      <td>Banana: Fresh yellow bananas (Section: Fruits)</td>\n",
       "    </tr>\n",
       "    <tr>\n",
       "      <th>1</th>\n",
       "      <td>2</td>\n",
       "      <td>Toothpaste</td>\n",
       "      <td>Colgate advanced cleaning</td>\n",
       "      <td>Personal Care</td>\n",
       "      <td>Toothpaste: Colgate advanced cleaning (Section...</td>\n",
       "    </tr>\n",
       "    <tr>\n",
       "      <th>2</th>\n",
       "      <td>3</td>\n",
       "      <td>Eggs</td>\n",
       "      <td>Organic free-range eggs</td>\n",
       "      <td>Dairy</td>\n",
       "      <td>Eggs: Organic free-range eggs (Section: Dairy)</td>\n",
       "    </tr>\n",
       "    <tr>\n",
       "      <th>3</th>\n",
       "      <td>4</td>\n",
       "      <td>Chips</td>\n",
       "      <td>Salted potato chips</td>\n",
       "      <td>Snacks</td>\n",
       "      <td>Chips: Salted potato chips (Section: Snacks)</td>\n",
       "    </tr>\n",
       "    <tr>\n",
       "      <th>4</th>\n",
       "      <td>5</td>\n",
       "      <td>Apple</td>\n",
       "      <td>Red delicious apples</td>\n",
       "      <td>Fruits</td>\n",
       "      <td>Apple: Red delicious apples (Section: Fruits)</td>\n",
       "    </tr>\n",
       "  </tbody>\n",
       "</table>\n",
       "</div>"
      ],
      "text/plain": [
       "   product_id product_name                description   section_name  \\\n",
       "0           1       Banana       Fresh yellow bananas         Fruits   \n",
       "1           2   Toothpaste  Colgate advanced cleaning  Personal Care   \n",
       "2           3         Eggs    Organic free-range eggs          Dairy   \n",
       "3           4        Chips        Salted potato chips         Snacks   \n",
       "4           5        Apple       Red delicious apples         Fruits   \n",
       "\n",
       "                                             content  \n",
       "0     Banana: Fresh yellow bananas (Section: Fruits)  \n",
       "1  Toothpaste: Colgate advanced cleaning (Section...  \n",
       "2     Eggs: Organic free-range eggs (Section: Dairy)  \n",
       "3       Chips: Salted potato chips (Section: Snacks)  \n",
       "4      Apple: Red delicious apples (Section: Fruits)  "
      ]
     },
     "execution_count": 18,
     "metadata": {},
     "output_type": "execute_result"
    }
   ],
   "source": [
    "df.head()"
   ]
  },
  {
   "cell_type": "code",
   "execution_count": null,
   "id": "d376fb27",
   "metadata": {},
   "outputs": [],
   "source": []
  }
 ],
 "metadata": {
  "kernelspec": {
   "display_name": ".venv",
   "language": "python",
   "name": "python3"
  },
  "language_info": {
   "codemirror_mode": {
    "name": "ipython",
    "version": 3
   },
   "file_extension": ".py",
   "mimetype": "text/x-python",
   "name": "python",
   "nbconvert_exporter": "python",
   "pygments_lexer": "ipython3",
   "version": "3.12.10"
  }
 },
 "nbformat": 4,
 "nbformat_minor": 5
}
